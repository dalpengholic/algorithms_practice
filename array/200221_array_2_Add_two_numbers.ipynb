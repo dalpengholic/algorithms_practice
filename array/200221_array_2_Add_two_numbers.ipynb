{
 "cells": [
  {
   "cell_type": "code",
   "execution_count": 1,
   "metadata": {},
   "outputs": [],
   "source": [
    "import pandas as pd\n",
    "import numpy as np"
   ]
  },
  {
   "cell_type": "markdown",
   "metadata": {},
   "source": [
    "## 2. Add Two Numbers\n",
    "\n",
    "You are given two non-empty linked lists representing two non-negative integers. The digits are stored in reverse order and each of their nodes contain a single digit. Add the two numbers and return it as a linked list.\n",
    "\n",
    "You may assume the two numbers do not contain any leading zero, except the number 0 itself.\n",
    "\n",
    "Example:\n",
    "\n",
    "Input: (2 -> 4 -> 3) + (5 -> 6 -> 4)\n",
    "Output: 7 -> 0 -> 8\n",
    "Explanation: 342 + 465 = 807.\n"
   ]
  },
  {
   "cell_type": "code",
   "execution_count": 2,
   "metadata": {},
   "outputs": [],
   "source": [
    "class Solution1:\n",
    "    def addTwoNumbers(self, l1, l2):\n",
    "        '''\n",
    "        nums: list[int]\n",
    "        target: int\n",
    "        return: list[int]\n",
    "        '''"
   ]
  },
  {
   "cell_type": "code",
   "execution_count": 7,
   "metadata": {},
   "outputs": [],
   "source": [
    "# Definition for singly-linked list.\n",
    "class ListNode(object):\n",
    "    def __init__(self, x):\n",
    "        self.val = x\n",
    "        self.next = None\n",
    "\n",
    "class Solution(object):\n",
    "    def addTwoNumbers(self, l1, l2):\n",
    "        \"\"\"\n",
    "        :type l1: ListNode\n",
    "        :type l2: ListNode\n",
    "        :rtype: ListNode\n",
    "        \"\"\"\n",
    "        result = ListNode(0)\n",
    "        result_tail = result\n",
    "        carry = 0\n",
    "        # result_tail --> result --> result.val=0, result.next=None\n",
    "        # reulst_tail -->           --> reulst.val=0, reuslt.next \n",
    "                \n",
    "        while l1 or l2 or carry:            \n",
    "            val1  = (l1.val if l1 else 0)\n",
    "            val2  = (l2.val if l2 else 0)\n",
    "            carry, out = divmod(val1+val2+carry, 10)    \n",
    "                      \n",
    "            result_tail.next = ListNode(out)\n",
    "            result_tail = result_tail.next                      \n",
    "            \n",
    "            l1 = (l1.next if l1 else None)\n",
    "            l2 = (l2.next if l2 else None)\n",
    "               \n",
    "        return result.next\n",
    "    "
   ]
  },
  {
   "cell_type": "code",
   "execution_count": 14,
   "metadata": {},
   "outputs": [],
   "source": [
    "# 9 -> 5 -> 3\n",
    "# 8 -> 3 -> 2\n",
    "\n",
    "[0, 7]\n",
    "\n",
    "result = ListNode(0)\n",
    "result_tail = result\n",
    "carry = 0\n",
    "\n",
    "while l1 or l2 or carry:\n",
    "    value1 = (l1.val if l1 or None)\n",
    "    value2 = (l2.val if l2 or None)\n",
    "    remainder =  (value1 + value3 + carry) % 10\n",
    "    carry = (value1 + value2 + carry) / 10\n",
    "    \n",
    "    result_tail.next = ListNode(remainder)\n",
    "    result_tail = result_tail.next\n",
    "    \n",
    "    l1 = (l1.next if l1 else None)\n",
    "    l2 = (l2.next if l2 else None)\n",
    "    \n",
    "\n",
    "    "
   ]
  },
  {
   "cell_type": "code",
   "execution_count": 5,
   "metadata": {},
   "outputs": [
    {
     "name": "stdout",
     "output_type": "stream",
     "text": [
      "11 26\n"
     ]
    }
   ],
   "source": [
    "def addTwoNumbers(self, l1, l2):\n",
    "        \"\"\"\n",
    "        :type l1: ListNode\n",
    "        :type l2: ListNode\n",
    "        :rtype: ListNode\n",
    "        \"\"\"\n",
    "        l3 = None\n",
    "        a = 0\n",
    "        while l1 or l2 or a:\n",
    "            if l1:\n",
    "                a += l1.val\n",
    "                l1 = l1.next\n",
    "                \n",
    "            if l2:\n",
    "                a += l2.val\n",
    "                l2 = l2.next\n",
    "                \n",
    "            if l3:\n",
    "                l3.next = ListNode(a%10)\n",
    "                l3 = l3.next\n",
    "            else:\n",
    "                l0 =  ListNode(a%10)\n",
    "                l3 = l0\n",
    "\n",
    "            a = a//10\n",
    "\n",
    "        return l0```"
   ]
  },
  {
   "cell_type": "code",
   "execution_count": null,
   "metadata": {},
   "outputs": [],
   "source": []
  }
 ],
 "metadata": {
  "kernelspec": {
   "display_name": "Python 3",
   "language": "python",
   "name": "python3"
  },
  "language_info": {
   "codemirror_mode": {
    "name": "ipython",
    "version": 3
   },
   "file_extension": ".py",
   "mimetype": "text/x-python",
   "name": "python",
   "nbconvert_exporter": "python",
   "pygments_lexer": "ipython3",
   "version": "3.6.10"
  }
 },
 "nbformat": 4,
 "nbformat_minor": 4
}
