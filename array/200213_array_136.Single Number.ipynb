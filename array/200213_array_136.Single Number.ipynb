{
 "cells": [
  {
   "cell_type": "code",
   "execution_count": 1,
   "metadata": {},
   "outputs": [],
   "source": [
    "import pandas as pd\n",
    "import numpy as np"
   ]
  },
  {
   "cell_type": "markdown",
   "metadata": {},
   "source": [
    "## A1. Hashing (Use extra memory)"
   ]
  },
  {
   "cell_type": "code",
   "execution_count": 27,
   "metadata": {},
   "outputs": [],
   "source": [
    "class Solution1:\n",
    "    def single_number(self, arr):\n",
    "        '''\n",
    "        arr: list non zero\n",
    "        '''\n",
    "        arr_dict = {}\n",
    "        for i in arr:\n",
    "            if i in arr_dict:\n",
    "                del arr_dict[i] \n",
    "            else:\n",
    "                arr_dict[i] = 1\n",
    "        result = list(arr_dict.keys())[0]\n",
    "        \n",
    "        return result"
   ]
  },
  {
   "cell_type": "markdown",
   "metadata": {},
   "source": [
    "## Test A1"
   ]
  },
  {
   "cell_type": "code",
   "execution_count": 17,
   "metadata": {},
   "outputs": [
    {
     "name": "stdout",
     "output_type": "stream",
     "text": [
      "2.74 µs ± 684 ns per loop (mean ± std. dev. of 4 runs, 250 loops each)\n"
     ]
    }
   ],
   "source": [
    "%%timeit -n 250 -r 4\n",
    "arr = [0,0,1,3,1,3,5,7,8,7,8]\n",
    "tester1 = Solution1()\n",
    "result1 = tester1.single_number(arr)"
   ]
  },
  {
   "cell_type": "code",
   "execution_count": 18,
   "metadata": {},
   "outputs": [
    {
     "name": "stdout",
     "output_type": "stream",
     "text": [
      "5\n"
     ]
    }
   ],
   "source": [
    "print(result1)"
   ]
  },
  {
   "cell_type": "markdown",
   "metadata": {},
   "source": [
    "## A2. XOR bitwise operation (No extra memory)"
   ]
  },
  {
   "cell_type": "code",
   "execution_count": 28,
   "metadata": {},
   "outputs": [],
   "source": [
    "class Solution2:\n",
    "    def single_number(self, arr):\n",
    "        '''\n",
    "        arr: list non zero\n",
    "        '''\n",
    "        result = 0 \n",
    "        for i in arr:\n",
    "            result ^= i\n",
    "        \n",
    "        return result    "
   ]
  },
  {
   "cell_type": "markdown",
   "metadata": {},
   "source": [
    "## Test A2"
   ]
  },
  {
   "cell_type": "code",
   "execution_count": 25,
   "metadata": {},
   "outputs": [
    {
     "name": "stdout",
     "output_type": "stream",
     "text": [
      "1.15 µs ± 135 ns per loop (mean ± std. dev. of 4 runs, 250 loops each)\n"
     ]
    }
   ],
   "source": [
    "%%timeit -n 250 -r 4\n",
    "arr = [0,0,1,3,1,3,5,7,8,7,8]\n",
    "tester2 = Solution2()\n",
    "result2 = tester2.single_number(arr)"
   ]
  },
  {
   "cell_type": "code",
   "execution_count": 26,
   "metadata": {},
   "outputs": [
    {
     "name": "stdout",
     "output_type": "stream",
     "text": [
      "5\n"
     ]
    }
   ],
   "source": [
    "print(result2)"
   ]
  },
  {
   "cell_type": "code",
   "execution_count": null,
   "metadata": {},
   "outputs": [],
   "source": []
  }
 ],
 "metadata": {
  "kernelspec": {
   "display_name": "Python 3",
   "language": "python",
   "name": "python3"
  },
  "language_info": {
   "codemirror_mode": {
    "name": "ipython",
    "version": 3
   },
   "file_extension": ".py",
   "mimetype": "text/x-python",
   "name": "python",
   "nbconvert_exporter": "python",
   "pygments_lexer": "ipython3",
   "version": "3.6.10"
  }
 },
 "nbformat": 4,
 "nbformat_minor": 4
}
