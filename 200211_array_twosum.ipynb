{
 "cells": [
  {
   "cell_type": "code",
   "execution_count": 74,
   "metadata": {},
   "outputs": [],
   "source": [
    "import numpy as np\n",
    "import pandas as pd"
   ]
  },
  {
   "cell_type": "markdown",
   "metadata": {},
   "source": [
    "## Two Sum\n",
    "### 1.\n",
    "Difficulty: Medium\n",
    "This is a classic algorithmic interview question. There are many different solution routes, each of which involves a different technique. This handout details the problem and gives a few different solution routes. \n",
    "Problem Statement:\n",
    "You are given an array of n integers and a number k. Determine whether there is a pair of elements in the array that sums to exactly k. For example, given the array [1, 3, 7] and k = 8, the answer is “yes,” but given k = 6 the answer is “no.” \n"
   ]
  },
  {
   "cell_type": "markdown",
   "metadata": {},
   "source": [
    "### 2. \n",
    "Given an array of integers, return indices of the two numbers such that they add up to a specific target. \\\n",
    "You may assume that each input would have exactly one solution, and you may not use the same element twice.\\\n",
    "Example:\\\n",
    "Given nums = [2, 7, 11, 15], target = 9, \\\n",
    "Because nums[0] + nums[1] = 2 + 7 = 9, \\\n",
    "return [0, 1]. "
   ]
  },
  {
   "cell_type": "markdown",
   "metadata": {},
   "source": [
    "## A1. Hashing"
   ]
  },
  {
   "cell_type": "code",
   "execution_count": 75,
   "metadata": {},
   "outputs": [],
   "source": [
    "class Solution1:\n",
    "    def twoSum(self, nums, target):\n",
    "        '''\n",
    "        nums: list[int]\n",
    "        target: int\n",
    "        return: list[int]\n",
    "        '''\n",
    "        dictTwosum = {}\n",
    "        for i in range(len(nums)):\n",
    "            if target - nums[i] in dictTwosum:\n",
    "                result = [nums[i], target-nums[i]]\n",
    "                return result\n",
    "            else:\n",
    "                dictTwosum[nums[i]] = 1\n",
    "        return None"
   ]
  },
  {
   "cell_type": "code",
   "execution_count": 76,
   "metadata": {},
   "outputs": [
    {
     "name": "stdout",
     "output_type": "stream",
     "text": [
      "nums: [15 11 10  9  4  3 19 14  6  0 18  7 16  5  2]\n",
      "target: 19\n"
     ]
    }
   ],
   "source": [
    "# number of elemennts : 15\n",
    "rng = np.random.default_rng()\n",
    "nums = rng.choice(20, 15, replace=False)\n",
    "target = 19\n",
    "print(\"nums:\", nums)\n",
    "print(\"target:\",target)"
   ]
  },
  {
   "cell_type": "code",
   "execution_count": 77,
   "metadata": {},
   "outputs": [
    {
     "name": "stdout",
     "output_type": "stream",
     "text": [
      "4.05 µs ± 248 ns per loop (mean ± std. dev. of 4 runs, 250 loops each)\n"
     ]
    }
   ],
   "source": [
    "%%timeit -n 250 -r 4\n",
    "tester = Solution1()\n",
    "result = tester.twoSum(nums,target)"
   ]
  },
  {
   "cell_type": "code",
   "execution_count": 78,
   "metadata": {},
   "outputs": [
    {
     "name": "stdout",
     "output_type": "stream",
     "text": [
      "[10, 9]\n"
     ]
    }
   ],
   "source": [
    "print(result)"
   ]
  },
  {
   "cell_type": "code",
   "execution_count": 79,
   "metadata": {},
   "outputs": [
    {
     "name": "stdout",
     "output_type": "stream",
     "text": [
      "nums: [177 185  43  68  59 168 114 170  92  40  71  63 153  97  79  18  21  66\n",
      " 198  62  47  13  65   4  35  49  93  55 157  80  19  15  86 181 110  82\n",
      "  36 125 165 115  48  44  46 136 197  22  26 138  83  95 106 107 199 182\n",
      " 109   0  98 174 100  41 140  50 131  85  20  75 151  57  84  91 135  51\n",
      "  53  12 130 101  10   3 190  73 194 108 139   9  37 188 146 111  52  81\n",
      "  28  30 127 128 171 102 120 122 121 167 137 166 132  99  29 103  64  69\n",
      " 123 195  77  87 178  96  23 142  33 116  76  14 154  78 119 186 160  54\n",
      "   2  90 148 163 187 183  72  88  34 113 184  42 192  38 196 147  60   5\n",
      "  27 179 112 105 104  16]\n",
      "target: 32\n"
     ]
    }
   ],
   "source": [
    "# number of elemennts : 150\n",
    "rng = np.random.default_rng()\n",
    "nums = rng.choice(200, 150, replace=False)\n",
    "target = 32\n",
    "print(\"nums:\", nums)\n",
    "print(\"target:\",target)"
   ]
  },
  {
   "cell_type": "code",
   "execution_count": 80,
   "metadata": {},
   "outputs": [
    {
     "name": "stdout",
     "output_type": "stream",
     "text": [
      "33.8 µs ± 8.97 µs per loop (mean ± std. dev. of 4 runs, 250 loops each)\n"
     ]
    }
   ],
   "source": [
    "%%timeit -n 250 -r 4\n",
    "tester = Solution1()\n",
    "result= tester.twoSum(nums,target)"
   ]
  },
  {
   "cell_type": "code",
   "execution_count": 81,
   "metadata": {},
   "outputs": [
    {
     "name": "stdout",
     "output_type": "stream",
     "text": [
      "[10, 9]\n"
     ]
    }
   ],
   "source": [
    "print(result)"
   ]
  },
  {
   "cell_type": "markdown",
   "metadata": {},
   "source": [
    "## A2. Sorting and Binary Search"
   ]
  },
  {
   "cell_type": "code",
   "execution_count": 82,
   "metadata": {},
   "outputs": [],
   "source": [
    "class Solution2:\n",
    "    def twoSum(self, nums, target):\n",
    "        '''\n",
    "        nums: list[int]\n",
    "        target: int\n",
    "        return: list[int]\n",
    "        '''\n",
    "        nums.sort()\n",
    "        lower = 0\n",
    "        upper = len(nums)\n",
    "        for i in range(len(nums)):\n",
    "            lower = i+1\n",
    "            upper = len(nums)-1\n",
    "            tmp = target - nums[i]\n",
    "            while lower < upper:\n",
    "                mid = lower + (upper - lower) //2\n",
    "                if tmp == nums[mid]:\n",
    "                    return [nums[i], tmp]\n",
    "                else:\n",
    "                    if tmp > nums[mid]:\n",
    "                        lower = mid + 1\n",
    "                    else:\n",
    "                        upper = mid - 1\n",
    "        \n",
    "        return None\n"
   ]
  },
  {
   "cell_type": "code",
   "execution_count": 83,
   "metadata": {},
   "outputs": [
    {
     "name": "stdout",
     "output_type": "stream",
     "text": [
      "nums: [ 5  7  4 11  1 16  0 12 13  6  2 14 19  3 18]\n",
      "target: 19\n"
     ]
    }
   ],
   "source": [
    "# number of elemennts : 15\n",
    "rng = np.random.default_rng()\n",
    "nums = rng.choice(20, 15, replace=False)\n",
    "target = 19\n",
    "print(\"nums:\", nums)\n",
    "print(\"target:\",target)"
   ]
  },
  {
   "cell_type": "code",
   "execution_count": 84,
   "metadata": {},
   "outputs": [
    {
     "name": "stdout",
     "output_type": "stream",
     "text": [
      "12.1 µs ± 595 ns per loop (mean ± std. dev. of 4 runs, 250 loops each)\n"
     ]
    }
   ],
   "source": [
    "%%timeit -n 250 -r 4\n",
    "tester1 = Solution2()\n",
    "result = tester1.twoSum(nums,target)"
   ]
  },
  {
   "cell_type": "code",
   "execution_count": 85,
   "metadata": {},
   "outputs": [
    {
     "name": "stdout",
     "output_type": "stream",
     "text": [
      "[10, 9]\n"
     ]
    }
   ],
   "source": [
    "print(result)"
   ]
  },
  {
   "cell_type": "code",
   "execution_count": 86,
   "metadata": {},
   "outputs": [
    {
     "name": "stdout",
     "output_type": "stream",
     "text": [
      "nums: [ 59  85  54  86 157  99 190  46  13   4  37  29  14 167 102 126  34  72\n",
      " 175 182  49 183 129 197  58 132 143  87 158  78 114  12 174  18 108 112\n",
      " 118  32  63 186  22 109  41  10 160  39  94 168  55 105  88 191  44  74\n",
      " 161  60   7  90  15  93   5  92  23 151  47 171  48  52 181 173  75 135\n",
      " 147 128 146  27 166  79 115 154 131  31  73 148 155 169  95 107 113  53\n",
      " 130  20  71 133 176   6  30  66  64 149 136 124  68 138  38   2 170 178\n",
      " 196 110 199  70  26  40  76  62 123 142 141 159 198 194 156 140  91  80\n",
      " 162   0   1  98 193  35 144 139 127  77   9 192  45  65  50 103  81  19\n",
      " 152  43 120  83  36 101]\n",
      "target: 32\n"
     ]
    }
   ],
   "source": [
    "# number of elemennts : 150\n",
    "rng = np.random.default_rng()\n",
    "nums = rng.choice(200, 150, replace=False)\n",
    "target = 32\n",
    "print(\"nums:\", nums)\n",
    "print(\"target:\",target)"
   ]
  },
  {
   "cell_type": "code",
   "execution_count": 87,
   "metadata": {},
   "outputs": [
    {
     "name": "stdout",
     "output_type": "stream",
     "text": [
      "35.3 µs ± 5.4 µs per loop (mean ± std. dev. of 4 runs, 250 loops each)\n"
     ]
    }
   ],
   "source": [
    "%%timeit -n 250 -r 4\n",
    "tester = Solution1()\n",
    "result= tester.twoSum(nums,target)"
   ]
  },
  {
   "cell_type": "code",
   "execution_count": 88,
   "metadata": {},
   "outputs": [
    {
     "name": "stdout",
     "output_type": "stream",
     "text": [
      "[10, 9]\n"
     ]
    }
   ],
   "source": [
    "print(result)"
   ]
  },
  {
   "cell_type": "code",
   "execution_count": null,
   "metadata": {},
   "outputs": [],
   "source": []
  }
 ],
 "metadata": {
  "kernelspec": {
   "display_name": "Python 3",
   "language": "python",
   "name": "python3"
  },
  "language_info": {
   "codemirror_mode": {
    "name": "ipython",
    "version": 3
   },
   "file_extension": ".py",
   "mimetype": "text/x-python",
   "name": "python",
   "nbconvert_exporter": "python",
   "pygments_lexer": "ipython3",
   "version": "3.6.10"
  }
 },
 "nbformat": 4,
 "nbformat_minor": 4
}
